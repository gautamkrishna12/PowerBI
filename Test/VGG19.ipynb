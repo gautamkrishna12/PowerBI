{
 "cells": [
  {
   "cell_type": "code",
   "execution_count": null,
   "id": "21e0e3da-9963-4f8c-bd11-33ae3f6be162",
   "metadata": {
    "scrolled": true
   },
   "outputs": [
    {
     "name": "stdout",
     "output_type": "stream",
     "text": [
      "Epoch 1/10\n",
      "\u001b[1m1875/1875\u001b[0m \u001b[32m━━━━━━━━━━━━━━━━━━━━\u001b[0m\u001b[37m\u001b[0m \u001b[1m698s\u001b[0m 369ms/step - accuracy: 0.6947 - loss: 1.0065 - val_accuracy: 0.9002 - val_loss: 0.3286\n",
      "Epoch 2/10\n",
      "\u001b[1m1875/1875\u001b[0m \u001b[32m━━━━━━━━━━━━━━━━━━━━\u001b[0m\u001b[37m\u001b[0m \u001b[1m742s\u001b[0m 396ms/step - accuracy: 0.9032 - loss: 0.3131 - val_accuracy: 0.9320 - val_loss: 0.2226\n",
      "Epoch 3/10\n",
      "\u001b[1m1731/1875\u001b[0m \u001b[32m━━━━━━━━━━━━━━━━━━\u001b[0m\u001b[37m━━\u001b[0m \u001b[1m48s\u001b[0m 340ms/step - accuracy: 0.9222 - loss: 0.2400"
     ]
    }
   ],
   "source": [
    "import numpy as np \n",
    "import tensorflow as tf \n",
    "from tensorflow.keras import models, layers \n",
    "from tensorflow.keras.applications import VGG19 \n",
    "from tensorflow.keras.utils import to_categorical \n",
    "import matplotlib.pyplot as plt \n",
    "\n",
    "mnist = tf.keras.datasets.mnist \n",
    "(x_train, y_train), (x_test, y_test) = mnist.load_data() \n",
    "y_train = to_categorical(y_train)  \n",
    "y_test = to_categorical(y_test)  \n",
    "x_train = np.pad(x_train, ((0, 0), (10, 10), (10, 10)), mode='constant', constant_values=255) \n",
    "x_test = np.pad(x_test, ((0, 0), (10, 10), (10, 10)), mode='constant', constant_values=255) \n",
    "x_train = np.stack([x_train] * 3, axis=-1) \n",
    "x_test =  np.stack([x_test] * 3, axis=-1) \n",
    "x_train = x_train.astype('float32') / 255.0 \n",
    "x_test = x_test.astype('float32') / 255.0 \n",
    "\n",
    "vgg_model = VGG19(weights='imagenet', include_top=False, input_shape=(48, 48, 3)) \n",
    "for layer in vgg_model.layers:\n",
    "    layer.trainable=False\n",
    "model = models.Sequential() \n",
    "model.add(vgg_model) \n",
    "model.add(layers.Flatten()) \n",
    "model.add(layers.Dense(128, activation='relu')) \n",
    "model.add(layers.Dense(10, activation='softmax'))  \n",
    " \n",
    "model.compile(optimizer='adam', loss='categorical_crossentropy', metrics=['accuracy']) \n",
    "\n",
    "history = model.fit(x_train, y_train, epochs=10, validation_data=(x_test, y_test)) \n",
    "\n",
    "test_loss, test_acc = model.evaluate(x_test, y_test) \n",
    "print(f\"Test accuracy: {test_acc}\") \n",
    "plt.figure(figsize=(12, 5)) \n",
    "plt.subplot(1, 2, 1) \n",
    "plt.plot(history.history['accuracy'], label='Train') \n",
    "plt.plot(history.history['val_accuracy'], label='Test') \n",
    "plt.title('Model accuracy') \n",
    "plt.ylabel('Accuracy') \n",
    "plt.xlabel('Epoch') \n",
    "plt.legend(loc='upper left') \n",
    "plt.subplot(1, 2, 2) \n",
    "plt.plot(history.history['loss'], label='Train') \n",
    "plt.plot(history.history['val_loss'], label='Test') \n",
    "plt.title('Model loss') \n",
    "plt.ylabel('Loss') \n",
    "plt.xlabel('Epoch') \n",
    "plt.legend(loc='upper left') \n",
    "plt.tight_layout() \n",
    "plt.show()"
   ]
  },
  {
   "cell_type": "code",
   "execution_count": null,
   "id": "1b8aea01-e0e5-4fc5-842a-9f01e1986a48",
   "metadata": {},
   "outputs": [],
   "source": []
  }
 ],
 "metadata": {
  "kernelspec": {
   "display_name": "Python 3 (ipykernel)",
   "language": "python",
   "name": "python3"
  },
  "language_info": {
   "codemirror_mode": {
    "name": "ipython",
    "version": 3
   },
   "file_extension": ".py",
   "mimetype": "text/x-python",
   "name": "python",
   "nbconvert_exporter": "python",
   "pygments_lexer": "ipython3",
   "version": "3.12.4"
  }
 },
 "nbformat": 4,
 "nbformat_minor": 5
}
